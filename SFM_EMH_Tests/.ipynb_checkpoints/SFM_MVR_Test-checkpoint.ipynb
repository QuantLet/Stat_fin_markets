{
 "cells": [
  {
   "cell_type": "code",
   "execution_count": 95,
   "metadata": {},
   "outputs": [],
   "source": [
    "#! pip install yahoo_fin"
   ]
  },
  {
   "cell_type": "code",
   "execution_count": 96,
   "metadata": {},
   "outputs": [],
   "source": [
    "import warnings\n",
    "warnings.simplefilter(\"ignore\")\n",
    "\n",
    "import pandas as pd\n",
    "import scipy.stats as stat\n",
    "import scipy\n",
    "import datetime\n",
    "import numpy as np\n",
    "from arch.unitroot import VarianceRatio\n",
    "\n",
    "from yahoo_fin.stock_info import *\n",
    "\n",
    "# We will look at stock prices \n",
    "start = datetime.datetime(2015,1,1)\n",
    "end = datetime.datetime(2021,6,1)\n",
    "\n",
    "\n",
    "\n",
    "stock = get_data('BTC-USD' , start_date = start, end_date = end)\n",
    "\n",
    "stock.head()\n",
    "\n",
    "stock=stock.dropna()\n",
    "close = pd.DataFrame(stock[\"close\"]).dropna()\n",
    "simple_return = close.pct_change().dropna()\n",
    "log_return = np.log(1+simple_return)"
   ]
  },
  {
   "cell_type": "code",
   "execution_count": 97,
   "metadata": {},
   "outputs": [
    {
     "data": {
      "text/plain": [
       "<AxesSubplot:>"
      ]
     },
     "execution_count": 97,
     "metadata": {},
     "output_type": "execute_result"
    },
    {
     "data": {
      "image/png": "[encoded data removed]",
      "text/plain": [
       "<Figure size 432x288 with 1 Axes>"
      ]
     },
     "metadata": {
      "needs_background": "light"
     },
     "output_type": "display_data"
    }
   ],
   "source": [
    "stock[\"close\"].plot(grid = False) # Plot the adjusted closing price \n",
    "\n"
   ]
  },
  {
   "cell_type": "code",
   "execution_count": 104,
   "metadata": {},
   "outputs": [
    {
     "ename": "TypeError",
     "evalue": "loop of ufunc does not support argument 0 of type function which has no callable log method",
     "output_type": "error",
     "traceback": [
      "\u001b[1;31m---------------------------------------------------------------------------\u001b[0m",
      "\u001b[1;31mAttributeError\u001b[0m                            Traceback (most recent call last)",
      "\u001b[1;31mAttributeError\u001b[0m: 'function' object has no attribute 'log'",
      "\nThe above exception was the direct cause of the following exception:\n",
      "\u001b[1;31mTypeError\u001b[0m                                 Traceback (most recent call last)",
      "\u001b[1;32m<ipython-input-104-a573bdf755b2>\u001b[0m in \u001b[0;36m<module>\u001b[1;34m\u001b[0m\n\u001b[0;32m      1\u001b[0m \u001b[0mx\u001b[0m \u001b[1;33m=\u001b[0m \u001b[0mnp\u001b[0m\u001b[1;33m.\u001b[0m\u001b[0masarray\u001b[0m\u001b[1;33m(\u001b[0m\u001b[0mclose\u001b[0m\u001b[1;33m)\u001b[0m\u001b[1;33m\u001b[0m\u001b[1;33m\u001b[0m\u001b[0m\n\u001b[1;32m----> 2\u001b[1;33m \u001b[0mx\u001b[0m \u001b[1;33m=\u001b[0m \u001b[0mnp\u001b[0m\u001b[1;33m.\u001b[0m\u001b[0mlog\u001b[0m\u001b[1;33m(\u001b[0m\u001b[0mx\u001b[0m\u001b[1;33m)\u001b[0m\u001b[1;33m\u001b[0m\u001b[1;33m\u001b[0m\u001b[0m\n\u001b[0m\u001b[0;32m      3\u001b[0m \u001b[0mN\u001b[0m\u001b[1;33m=\u001b[0m\u001b[0mlen\u001b[0m\u001b[1;33m(\u001b[0m\u001b[0mx\u001b[0m\u001b[1;33m)\u001b[0m\u001b[1;33m\u001b[0m\u001b[1;33m\u001b[0m\u001b[0m\n\u001b[0;32m      4\u001b[0m \u001b[0mvr_1\u001b[0m\u001b[1;33m=\u001b[0m\u001b[1;33m[\u001b[0m\u001b[1;33m]\u001b[0m\u001b[1;33m\u001b[0m\u001b[1;33m\u001b[0m\u001b[0m\n\u001b[0;32m      5\u001b[0m \u001b[0mvrt\u001b[0m \u001b[1;33m=\u001b[0m \u001b[1;33m[\u001b[0m\u001b[1;33m]\u001b[0m\u001b[1;33m\u001b[0m\u001b[1;33m\u001b[0m\u001b[0m\n",
      "\u001b[1;31mTypeError\u001b[0m: loop of ufunc does not support argument 0 of type function which has no callable log method"
     ]
    }
   ],
   "source": [
    "x = np.asarray(close)\n",
    "x = np.log(x)\n",
    "N=len(x)\n",
    "vr_1=[]\n",
    "vrt = []\n",
    "w=[]\n",
    "varvrt = []\n",
    "zvrt = []\n",
    "q = []\n",
    "lcl=[]\n",
    "ucl=[]\n",
    "vr_1=[]\n",
    "p_value=[]\n",
    "stderr=[]\n",
    "alpha=0.05\n",
    "k=5\n",
    "\n",
    "def VRTest():\n",
    "    for ii in range (1, k+1):\n",
    "        a=2**ii\n",
    "        q.append(a)\n",
    "        vr = VarianceRatio(x, a)\n",
    "        vrt.append(vr.vr)\n",
    "        se=np.sqrt(vr._stat_variance)/np.sqrt(vr._nobs-1)\n",
    "        stderr.append(se)\n",
    "        lower=vr.vr-stat.norm.ppf(1-alpha/2)*se\n",
    "        upper=vr.vr+stat.norm.ppf(1-alpha/2)*se\n",
    "        one=1\n",
    "        zvrt.append(vr.stat)\n",
    "        lcl.append(lower)\n",
    "        ucl.append(upper)\n",
    "        vr_1.append(one)\n",
    "        p_value.append(vr.pvalue)\n",
    "\n",
    "    return vrt,p_value,zvrt,q,stderr \n",
    "VRTest()\n",
    "\n",
    "confidence=1-alpha\n",
    "%pylab inline\n",
    "#pylab.rcParams['figure.figsize'] = (15, 9)   # Change the size of plots\n",
    "#plt.ylim(min(lcl), max(ucl))\n",
    "plt.xlim(0, 2**k+2)\n",
    "plt.xlabel( 'q' )\n",
    "plt.ylabel( 'VR(q)' )\n",
    "plt.plot(q, vr_1,color='black', linestyle='dashed', label='VR(q)=1')\n",
    "plt.plot(q, vrt, color='blue', marker='o',markerfacecolor='blue', markersize=8,label='VR(q)')\n",
    "plt.plot(q, lcl,color='red', linestyle='dashed', label='LCL ' +str('{:.0%}'.format(confidence)))\n",
    "plt.plot(q, ucl,color='red', linestyle='dashed', label='UCL ' +str('{:.0%}'.format(confidence)))\n",
    "plt.legend(loc='upper center', bbox_to_anchor=(0.5, -0.07),fancybox=True, shadow=True, ncol=5)\n",
    "\n",
    "plt.show()"
   ]
  },
  {
   "cell_type": "markdown",
   "metadata": {},
   "source": [
    "# Individual Variance Ratio Tests"
   ]
  },
  {
   "cell_type": "code",
   "execution_count": 99,
   "metadata": {},
   "outputs": [],
   "source": [
    "results=pd.DataFrame(columns=['q','VR test', 'Std. Error','z statistic', 'P-value'])\n",
    "results['q']=q\n",
    "results['VR test']=vrt\n",
    "results['Std. Error']=stderr\n",
    "results['z statistic']=zvrt\n",
    "results['P-value']=p_value"
   ]
  },
  {
   "cell_type": "code",
   "execution_count": 100,
   "metadata": {},
   "outputs": [
    {
     "data": {
      "text/latex": [
       "\\[\\left\\{ \\begin{align}\n",
       "  & {{H}_{0i}}:VR({{q}_{i}})=1 \\\\ \n",
       " & {{H}_{Ai}}:VR({{q}_{i}})\\ne 1 \\\\ \n",
       "\\end{align} \\right.\\]\n"
      ],
      "text/plain": [
       "<IPython.core.display.Latex object>"
      ]
     },
     "metadata": {},
     "output_type": "display_data"
    }
   ],
   "source": [
    "%%latex\n",
    "\\[\\left\\{ \\begin{align}\n",
    "  & {{H}_{0i}}:VR({{q}_{i}})=1 \\\\ \n",
    " & {{H}_{Ai}}:VR({{q}_{i}})\\ne 1 \\\\ \n",
    "\\end{align} \\right.\\]\n"
   ]
  },
  {
   "cell_type": "code",
   "execution_count": 101,
   "metadata": {},
   "outputs": [
    {
     "data": {
      "text/html": [
       "<div>\n",
       "<style scoped>\n",
       "    .dataframe tbody tr th:only-of-type {\n",
       "        vertical-align: middle;\n",
       "    }\n",
       "\n",
       "    .dataframe tbody tr th {\n",
       "        vertical-align: top;\n",
       "    }\n",
       "\n",
       "    .dataframe thead th {\n",
       "        text-align: right;\n",
       "    }\n",
       "</style>\n",
       "<table border=\"1\" class=\"dataframe\">\n",
       "  <thead>\n",
       "    <tr style=\"text-align: right;\">\n",
       "      <th></th>\n",
       "      <th>q</th>\n",
       "      <th>VR test</th>\n",
       "      <th>Std. Error</th>\n",
       "      <th>z statistic</th>\n",
       "      <th>P-value</th>\n",
       "    </tr>\n",
       "  </thead>\n",
       "  <tbody>\n",
       "    <tr>\n",
       "      <th>0</th>\n",
       "      <td>2</td>\n",
       "      <td>0.973571</td>\n",
       "      <td>0.034489</td>\n",
       "      <td>-0.766321</td>\n",
       "      <td>0.443485</td>\n",
       "    </tr>\n",
       "    <tr>\n",
       "      <th>1</th>\n",
       "      <td>4</td>\n",
       "      <td>0.979223</td>\n",
       "      <td>0.059454</td>\n",
       "      <td>-0.349460</td>\n",
       "      <td>0.726744</td>\n",
       "    </tr>\n",
       "    <tr>\n",
       "      <th>2</th>\n",
       "      <td>8</td>\n",
       "      <td>1.033895</td>\n",
       "      <td>0.087545</td>\n",
       "      <td>0.387166</td>\n",
       "      <td>0.698633</td>\n",
       "    </tr>\n",
       "    <tr>\n",
       "      <th>3</th>\n",
       "      <td>16</td>\n",
       "      <td>1.072202</td>\n",
       "      <td>0.124047</td>\n",
       "      <td>0.582054</td>\n",
       "      <td>0.560530</td>\n",
       "    </tr>\n",
       "    <tr>\n",
       "      <th>4</th>\n",
       "      <td>32</td>\n",
       "      <td>1.144218</td>\n",
       "      <td>0.169506</td>\n",
       "      <td>0.850813</td>\n",
       "      <td>0.394873</td>\n",
       "    </tr>\n",
       "  </tbody>\n",
       "</table>\n",
       "</div>"
      ],
      "text/plain": [
       "    q   VR test  Std. Error  z statistic   P-value\n",
       "0   2  0.973571    0.034489    -0.766321  0.443485\n",
       "1   4  0.979223    0.059454    -0.349460  0.726744\n",
       "2   8  1.033895    0.087545     0.387166  0.698633\n",
       "3  16  1.072202    0.124047     0.582054  0.560530\n",
       "4  32  1.144218    0.169506     0.850813  0.394873"
      ]
     },
     "execution_count": 101,
     "metadata": {},
     "output_type": "execute_result"
    }
   ],
   "source": [
    "results"
   ]
  },
  {
   "cell_type": "markdown",
   "metadata": {},
   "source": [
    "# Multiple Variance Ratio Test - Studentized Maximum Modulus"
   ]
  },
  {
   "cell_type": "code",
   "execution_count": 102,
   "metadata": {},
   "outputs": [
    {
     "data": {
      "text/html": [
       "<div>\n",
       "<style scoped>\n",
       "    .dataframe tbody tr th:only-of-type {\n",
       "        vertical-align: middle;\n",
       "    }\n",
       "\n",
       "    .dataframe tbody tr th {\n",
       "        vertical-align: top;\n",
       "    }\n",
       "\n",
       "    .dataframe thead th {\n",
       "        text-align: right;\n",
       "    }\n",
       "</style>\n",
       "<table border=\"1\" class=\"dataframe\">\n",
       "  <thead>\n",
       "    <tr style=\"text-align: right;\">\n",
       "      <th></th>\n",
       "      <th>z Statistic</th>\n",
       "      <th>Critical z</th>\n",
       "      <th>Decision</th>\n",
       "    </tr>\n",
       "  </thead>\n",
       "  <tbody>\n",
       "    <tr>\n",
       "      <th>0</th>\n",
       "      <td>0.850813</td>\n",
       "      <td>3.089039</td>\n",
       "      <td>Cannot reject the null hypothesis of random walk</td>\n",
       "    </tr>\n",
       "  </tbody>\n",
       "</table>\n",
       "</div>"
      ],
      "text/plain": [
       "  z Statistic  Critical z                                          Decision\n",
       "0    0.850813    3.089039  Cannot reject the null hypothesis of random walk"
      ]
     },
     "execution_count": 102,
     "metadata": {},
     "output_type": "execute_result"
    }
   ],
   "source": [
    "z=abs(results[\"z statistic\"]).max()\n",
    "alpha_star=1-(1-alpha)**(1/k)\n",
    "alpha_star\n",
    "z_star=stat.norm.ppf(1-alpha_star/2)\n",
    "z_star\n",
    "\n",
    "mvr=pd.DataFrame(columns=['z Statistic','Critical z','Decision'])\n",
    "mvr.at[0,'z Statistic']=z\n",
    "mvr['Critical z']=z_star\n",
    "if z<z_star:\n",
    "    mvr['Decision']=\"Cannot reject the null hypothesis of random walk\"\n",
    "else:\n",
    "    mvr['Decision']=\"Reject the null hypothesis of random walk\"\n",
    "mvr"
   ]
  },
  {
   "cell_type": "markdown",
   "metadata": {},
   "source": [
    "# Multiple Variance Ratio Test - Wald Test\n",
    "Wai Mun Fong, Seng Kee Koh & Sam Ouliaris (1997) \n",
    "Joint Variance-Ratio Tests of the Martingale Hypothesis for Exchange Rates, \n",
    "Journal of Business & Economic Statistics, 15:1, 51-59, DOI: 10.1080/07350015.1997.10524686"
   ]
  },
  {
   "cell_type": "markdown",
   "metadata": {},
   "source": [
    "\n",
    "Wald Test=$N\\left[\\hat{V}_{m}-l_{m}\\right]^{\\prime} \\Phi^{-1}\\left[\\hat{V}_{m}-l_{m}\\right] \\sim \\chi_{m}^{2}$\n",
    "\n",
    "$m$ - the number of lags\n",
    "\n",
    "$\\Phi$ - covariance matrix of ${V}_{m}$\n",
    "\n",
    "${V}_{m}$ - individual Variance Ratio statistics\n",
    "\n",
    "$l_{m}$ is an $m \\times 1$ unit vector\n",
    "\n",
    "$\\Phi=\\left(\\begin{array}{cc}\\frac{2(2 r-1)(r-1)}{3 r} &\n",
    "            \\frac{2(3 s-r-1)(r-1)}{3 s} \\\\ \\frac{2(3 s-r-1)(r-1)}{3 s}\n",
    "            & \\frac{2(2 s-1)(s-1)}{3 s}\\end{array}\\right)$, $r,s$  - lags"
   ]
  },
  {
   "cell_type": "code",
   "execution_count": 103,
   "metadata": {},
   "outputs": [
    {
     "data": {
      "text/html": [
       "<div>\n",
       "<style scoped>\n",
       "    .dataframe tbody tr th:only-of-type {\n",
       "        vertical-align: middle;\n",
       "    }\n",
       "\n",
       "    .dataframe tbody tr th {\n",
       "        vertical-align: top;\n",
       "    }\n",
       "\n",
       "    .dataframe thead th {\n",
       "        text-align: right;\n",
       "    }\n",
       "</style>\n",
       "<table border=\"1\" class=\"dataframe\">\n",
       "  <thead>\n",
       "    <tr style=\"text-align: right;\">\n",
       "      <th></th>\n",
       "      <th>Wald Test</th>\n",
       "      <th>Critical Chi2</th>\n",
       "      <th>P-value</th>\n",
       "      <th>Decision</th>\n",
       "    </tr>\n",
       "  </thead>\n",
       "  <tbody>\n",
       "    <tr>\n",
       "      <th>0</th>\n",
       "      <td>5.81542</td>\n",
       "      <td>0.411742</td>\n",
       "      <td>0.324596</td>\n",
       "      <td>Cannot reject the null hypothesis of random walk</td>\n",
       "    </tr>\n",
       "  </tbody>\n",
       "</table>\n",
       "</div>"
      ],
      "text/plain": [
       "  Wald Test  Critical Chi2   P-value  \\\n",
       "0   5.81542       0.411742  0.324596   \n",
       "\n",
       "                                           Decision  \n",
       "0  Cannot reject the null hypothesis of random walk  "
      ]
     },
     "execution_count": 103,
     "metadata": {},
     "output_type": "execute_result"
    }
   ],
   "source": [
    "#Compute the covariance matrix\n",
    "cov1=np.zeros((k,k))\n",
    "\n",
    "q=np.asarray(q)\n",
    "\n",
    "for i in range (0,k-1):\n",
    "    for j in range (i+1,k):\n",
    "        cov1[i][j]=2*(3*q[j]-q[i]-1)*(q[i]-1)/(3*q[j])\n",
    "cov2=np.transpose(cov1)\n",
    "cov=cov1+cov2\n",
    "\n",
    "for i in range (0,k):\n",
    "    #for j in range (i+1,k):\n",
    "  \n",
    "    cov[i][i]=2*(2*q[i]-1)*(q[i]-1)/(3*q[i])\n",
    "    \n",
    "Wald_Test=np.matmul(np.asarray(vrt)-1,np.linalg.inv(cov))\n",
    "                    \n",
    "Wald_Test=N*np.matmul(Wald_Test,np.transpose(np.asarray(vrt)-1))\n",
    "\n",
    "p_val= 1-stat.chi2.cdf(Wald_Test,k)\n",
    "\n",
    "mvrw=pd.DataFrame(columns=['Wald Test','Critical Chi2','P-value','Decision'])\n",
    "mvrw.at[0,'Wald Test']=Wald_Test\n",
    "mvrw['Critical Chi2']=stat.chi2.ppf(alpha/2,k)\n",
    "mvrw['P-value']=p_val\n",
    "if p_val>0.05:\n",
    "    mvrw['Decision']=\"Cannot reject the null hypothesis of random walk\"\n",
    "else:\n",
    "    mvrw['Decision']=\"Reject the null hypothesis of random walk\"\n",
    "mvrw"
   ]
  },
  {
   "cell_type": "code",
   "execution_count": null,
   "metadata": {},
   "outputs": [],
   "source": []
  }
 ],
 "metadata": {
  "kernelspec": {
   "display_name": "Python 3",
   "language": "python",
   "name": "python3"
  },
  "language_info": {
   "codemirror_mode": {
    "name": "ipython",
    "version": 3
   },
   "file_extension": ".py",
   "mimetype": "text/x-python",
   "name": "python",
   "nbconvert_exporter": "python",
   "pygments_lexer": "ipython3",
   "version": "3.8.5"
  }
 },
 "nbformat": 4,
 "nbformat_minor": 2
}
