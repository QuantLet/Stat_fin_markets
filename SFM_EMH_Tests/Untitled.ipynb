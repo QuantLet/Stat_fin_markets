{
 "cells": [
  {
   "cell_type": "code",
   "execution_count": 12,
   "metadata": {},
   "outputs": [],
   "source": [
    "import scipy.stats as stat\n",
    "import scipy\n",
    "import datetime\n",
    "import numpy as np\n",
    "from arch.unitroot import VarianceRatio\n",
    "\n",
    "from yahoo_fin.stock_info import *\n",
    "\n",
    "# We will look at stock prices \n",
    "start = datetime.datetime(2015,1,1)\n",
    "end = datetime.datetime(2021,6,1)\n",
    "\n",
    "\n",
    "\n",
    "stock = get_data('AAPL' , start_date = start, end_date = end)\n",
    "\n",
    "stock.head()\n",
    "\n",
    "stock=stock.dropna()\n",
    "close = pd.DataFrame(stock[\"close\"]).dropna()\n",
    "simple_return = close.pct_change().dropna()\n",
    "log_return_AAPL = np.log(1+simple_return)\n",
    "log_return_AAPL.columns=['AAPL']"
   ]
  },
  {
   "cell_type": "code",
   "execution_count": 14,
   "metadata": {},
   "outputs": [],
   "source": [
    "\n",
    "stock = get_data('BTC-USD' , start_date = start, end_date = end)\n",
    "\n",
    "stock.head()\n",
    "\n",
    "stock=stock.dropna()\n",
    "close = pd.DataFrame(stock[\"close\"]).dropna()\n",
    "simple_return = close.pct_change().dropna()\n",
    "log_return_BTC = np.log(1+simple_return)\n",
    "log_return_BTC.columns=['BTC']"
   ]
  },
  {
   "cell_type": "code",
   "execution_count": 19,
   "metadata": {},
   "outputs": [
    {
     "data": {
      "text/html": [
       "<div>\n",
       "<style scoped>\n",
       "    .dataframe tbody tr th:only-of-type {\n",
       "        vertical-align: middle;\n",
       "    }\n",
       "\n",
       "    .dataframe tbody tr th {\n",
       "        vertical-align: top;\n",
       "    }\n",
       "\n",
       "    .dataframe thead th {\n",
       "        text-align: right;\n",
       "    }\n",
       "</style>\n",
       "<table border=\"1\" class=\"dataframe\">\n",
       "  <thead>\n",
       "    <tr style=\"text-align: right;\">\n",
       "      <th></th>\n",
       "      <th>AAPL</th>\n",
       "      <th>BTC</th>\n",
       "    </tr>\n",
       "  </thead>\n",
       "  <tbody>\n",
       "    <tr>\n",
       "      <th>2015-01-05</th>\n",
       "      <td>-0.028576</td>\n",
       "      <td>0.038169</td>\n",
       "    </tr>\n",
       "    <tr>\n",
       "      <th>2015-01-06</th>\n",
       "      <td>0.000094</td>\n",
       "      <td>0.041796</td>\n",
       "    </tr>\n",
       "    <tr>\n",
       "      <th>2015-01-07</th>\n",
       "      <td>0.013925</td>\n",
       "      <td>0.028073</td>\n",
       "    </tr>\n",
       "    <tr>\n",
       "      <th>2015-01-08</th>\n",
       "      <td>0.037703</td>\n",
       "      <td>-0.038046</td>\n",
       "    </tr>\n",
       "    <tr>\n",
       "      <th>2015-01-09</th>\n",
       "      <td>0.001072</td>\n",
       "      <td>0.024607</td>\n",
       "    </tr>\n",
       "    <tr>\n",
       "      <th>...</th>\n",
       "      <td>...</td>\n",
       "      <td>...</td>\n",
       "    </tr>\n",
       "    <tr>\n",
       "      <th>2021-05-24</th>\n",
       "      <td>0.013226</td>\n",
       "      <td>-0.007879</td>\n",
       "    </tr>\n",
       "    <tr>\n",
       "      <th>2021-05-25</th>\n",
       "      <td>-0.001575</td>\n",
       "      <td>0.022962</td>\n",
       "    </tr>\n",
       "    <tr>\n",
       "      <th>2021-05-26</th>\n",
       "      <td>-0.000394</td>\n",
       "      <td>-0.022057</td>\n",
       "    </tr>\n",
       "    <tr>\n",
       "      <th>2021-05-27</th>\n",
       "      <td>-0.012454</td>\n",
       "      <td>-0.073936</td>\n",
       "    </tr>\n",
       "    <tr>\n",
       "      <th>2021-05-28</th>\n",
       "      <td>-0.005362</td>\n",
       "      <td>-0.030766</td>\n",
       "    </tr>\n",
       "  </tbody>\n",
       "</table>\n",
       "<p>1609 rows × 2 columns</p>\n",
       "</div>"
      ],
      "text/plain": [
       "                AAPL       BTC\n",
       "2015-01-05 -0.028576  0.038169\n",
       "2015-01-06  0.000094  0.041796\n",
       "2015-01-07  0.013925  0.028073\n",
       "2015-01-08  0.037703 -0.038046\n",
       "2015-01-09  0.001072  0.024607\n",
       "...              ...       ...\n",
       "2021-05-24  0.013226 -0.007879\n",
       "2021-05-25 -0.001575  0.022962\n",
       "2021-05-26 -0.000394 -0.022057\n",
       "2021-05-27 -0.012454 -0.073936\n",
       "2021-05-28 -0.005362 -0.030766\n",
       "\n",
       "[1609 rows x 2 columns]"
      ]
     },
     "execution_count": 19,
     "metadata": {},
     "output_type": "execute_result"
    }
   ],
   "source": [
    "\n",
    "df=pd.merge(log_return_AAPL, log_return_BTC,  left_index=True, right_index=True)\n",
    "df\n"
   ]
  },
  {
   "cell_type": "code",
   "execution_count": 21,
   "metadata": {},
   "outputs": [
    {
     "data": {
      "text/plain": [
       "array([[3.47694088e-04, 4.84729417e-05],\n",
       "       [4.84729417e-05, 1.77349132e-03]])"
      ]
     },
     "execution_count": 21,
     "metadata": {},
     "output_type": "execute_result"
    }
   ],
   "source": [
    "cov=np.cov(df['AAPL'],df['BTC'])\n",
    "cov"
   ]
  },
  {
   "cell_type": "code",
   "execution_count": 24,
   "metadata": {},
   "outputs": [],
   "source": [
    "mean=df.mean(axis=0)"
   ]
  },
  {
   "cell_type": "code",
   "execution_count": 25,
   "metadata": {},
   "outputs": [
    {
     "data": {
      "text/plain": [
       "AAPL    0.000900\n",
       "BTC     0.002041\n",
       "dtype: float64"
      ]
     },
     "execution_count": 25,
     "metadata": {},
     "output_type": "execute_result"
    }
   ],
   "source": [
    "mean"
   ]
  },
  {
   "cell_type": "code",
   "execution_count": null,
   "metadata": {},
   "outputs": [],
   "source": []
  }
 ],
 "metadata": {
  "kernelspec": {
   "display_name": "Python 3",
   "language": "python",
   "name": "python3"
  },
  "language_info": {
   "codemirror_mode": {
    "name": "ipython",
    "version": 3
   },
   "file_extension": ".py",
   "mimetype": "text/x-python",
   "name": "python",
   "nbconvert_exporter": "python",
   "pygments_lexer": "ipython3",
   "version": "3.8.5"
  }
 },
 "nbformat": 4,
 "nbformat_minor": 4
}
