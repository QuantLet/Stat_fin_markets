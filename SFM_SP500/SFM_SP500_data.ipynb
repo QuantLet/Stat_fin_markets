{
 "cells": [
  {
   "cell_type": "code",
   "execution_count": 1,
   "metadata": {},
   "outputs": [],
   "source": [
    "import bs4 as bs\n",
    "import datetime as dt\n",
    "import os\n",
    "import pandas as pd\n",
    "import numpy as np\n",
    "import pandas_datareader.data as web\n",
    "import pickle \n",
    "import requests\n",
    "\n",
    "def save_sp500_tickers():\n",
    "    resp = requests.get('http://en.wikipedia.org/wiki/List_of_S%26P_500_companies')\n",
    "    soup = bs.BeautifulSoup(resp.text, 'lxml')\n",
    "    table = soup.find('table', {'class': 'wikitable sortable'})\n",
    "    tickers = []\n",
    "    names = []\n",
    "    symbols=[[]]\n",
    "    for row in table.findAll('tr')[1:]:\n",
    "        ticker = row.findAll('td')[0].text.replace('.', '-')\n",
    "        ticker = ticker[:-1]\n",
    "        tickers.append(ticker)\n",
    "        name = row.findAll('td')[1].text\n",
    "        name = name\n",
    "        names.append(name)\n",
    "\n",
    "    with open(\"sp500tickers.pickle\", \"wb\") as f:\n",
    "        pickle.dump(symbols, f)\n",
    "    symbols=np.column_stack((tickers,names))\n",
    "    return symbols\n",
    "symbols=save_sp500_tickers()\n"
   ]
  },
  {
   "cell_type": "code",
   "execution_count": 2,
   "metadata": {},
   "outputs": [
    {
     "name": "stdout",
     "output_type": "stream",
     "text": [
      "505\n",
      "[['MMM' '3M Company']\n",
      " ['ABT' 'Abbott Laboratories']\n",
      " ['ABBV' 'AbbVie Inc.']\n",
      " ...\n",
      " ['ZBH' 'Zimmer Biomet']\n",
      " ['ZION' 'Zions Bancorp']\n",
      " ['ZTS' 'Zoetis']]\n"
     ]
    }
   ],
   "source": [
    "print(len(symbols))\n",
    "print(symbols)"
   ]
  },
  {
   "cell_type": "code",
   "execution_count": 3,
   "metadata": {},
   "outputs": [],
   "source": [
    "\n",
    "def get_data_from_yahoo(reload_sp500=True):\n",
    "    if reload_sp500:\n",
    "        symbols = save_sp500_tickers()\n",
    "    else:\n",
    "        with open(\"sp500tickers.pickle\", \"rb\") as f:\n",
    "            symbols = pickle.load(f)\n",
    "    if not os.path.exists('stock_dfs'):\n",
    "        os.makedirs('stock_dfs')\n",
    "\n",
    "    start = dt.datetime(2020, 1, 1)\n",
    "    end = dt.datetime.now()\n",
    "    for i in range(len(symbols)):\n",
    "        ticker=symbols[i][0]\n",
    "    # just in case your connection breaks, we'd like to save our progress!\n",
    "        if not os.path.exists('stock_dfs/{}.csv'.format(ticker)):\n",
    "            \n",
    "            df = web.DataReader(ticker, 'yahoo', start, end)\n",
    "            df.reset_index(inplace=True)\n",
    "            df.set_index(\"Date\", inplace=True)\n",
    "            df['Name'] = symbols[i][1]\n",
    "            df['Symbol'] = symbols[i][0]\n",
    "            df.to_csv('stock_dfs/{}.csv'.format(ticker))\n",
    "        else:\n",
    "            print('Already have {}'.format(ticker))\n",
    "\n",
    "\n",
    "get_data_from_yahoo()"
   ]
  },
  {
   "cell_type": "code",
   "execution_count": 4,
   "metadata": {},
   "outputs": [
    {
     "name": "stdout",
     "output_type": "stream",
     "text": [
      "                  High         Low        Open       Close     Volume  \\\n",
      "Date                                                                    \n",
      "2020-01-02  180.009995  177.139999  177.679993  180.000000  3601700.0   \n",
      "2020-01-03  178.660004  175.630005  177.020004  178.449997  2466900.0   \n",
      "2020-01-06  178.710007  176.350006  177.149994  178.619995  1998000.0   \n",
      "2020-01-07  178.509995  176.820007  178.279999  177.899994  2173000.0   \n",
      "2020-01-08  181.500000  177.649994  178.000000  180.630005  2758300.0   \n",
      "\n",
      "             Adj Close        Name Symbol  \n",
      "Date                                       \n",
      "2020-01-02  172.119888  3M Company    MMM  \n",
      "2020-01-03  170.637741  3M Company    MMM  \n",
      "2020-01-06  170.800308  3M Company    MMM  \n",
      "2020-01-07  170.111816  3M Company    MMM  \n",
      "2020-01-08  172.722321  3M Company    MMM  \n"
     ]
    }
   ],
   "source": [
    "def compile_data():\n",
    "    '''\n",
    "    with open(\"sp500tickers.pickle\", \"rb\") as f:\n",
    "        symbols= pickle.load(f)\n",
    "    '''\n",
    "    #symbols = save_sp500_tickers()\n",
    "    main_df = pd.DataFrame()\n",
    "\n",
    "    for i in range(len(symbols)):\n",
    "        ticker=symbols[i][0]\n",
    "        df = pd.read_csv('stock_dfs/{}.csv'.format(ticker))\n",
    "        df.set_index('Date', inplace=True)\n",
    "       # df.drop(['Open', 'High', 'Low', 'Adj Close', 'Volume'],1,inplace=True)\n",
    "       \n",
    "        if main_df.empty:\n",
    "            main_df = df\n",
    "        else:\n",
    "            main_df=pd.concat([main_df,df])\n",
    "\n",
    "    print(main_df.head())\n",
    "    main_df.to_csv('sp500_2020.csv')\n",
    "\n",
    "\n",
    "compile_data()"
   ]
  },
  {
   "cell_type": "code",
   "execution_count": null,
   "metadata": {},
   "outputs": [],
   "source": []
  }
 ],
 "metadata": {
  "kernelspec": {
   "display_name": "Python 3",
   "language": "python",
   "name": "python3"
  },
  "language_info": {
   "codemirror_mode": {
    "name": "ipython",
    "version": 3
   },
   "file_extension": ".py",
   "mimetype": "text/x-python",
   "name": "python",
   "nbconvert_exporter": "python",
   "pygments_lexer": "ipython3",
   "version": "3.8.3"
  }
 },
 "nbformat": 4,
 "nbformat_minor": 2
}
