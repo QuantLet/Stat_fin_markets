{
  "cells": [
    {
      "cell_type": "code",
      "execution_count": null,
      "metadata": {
        "id": "1_G_6hCnQSDH",
        "outputId": "0481be0d-3d78-4b78-b9a3-11e9f6a0c907"
      },
      "outputs": [
        {
          "name": "stdout",
          "output_type": "stream",
          "text": [
            "        Date    Close   weekday\n",
            "0 2010-07-16  0.04951    Friday\n",
            "1 2010-07-17  0.08584  Saturday\n",
            "2 2010-07-18  0.08080    Sunday\n",
            "3 2010-07-19  0.07474    Monday\n",
            "4 2010-07-20  0.07921   Tuesday\n",
            "  Multiple Comparison of Means - Tukey HSD,FWER=0.05 \n",
            "=====================================================\n",
            " group1    group2  meandiff   lower    upper   reject\n",
            "-----------------------------------------------------\n",
            " Friday    Monday  -0.7847  -581.2979 579.7286 False \n",
            " Friday   Saturday  1.1907  -579.3226 581.704  False \n",
            " Friday    Sunday  -5.1985  -586.0332 575.6361 False \n",
            " Friday   Thursday -5.5206  -586.0339 574.9927 False \n",
            " Friday   Tuesday  -7.7962  -588.3094 572.7171 False \n",
            " Friday  Wednesday -0.4358  -580.9491 580.0775 False \n",
            " Monday   Saturday  1.9754  -578.8579 582.8086 False \n",
            " Monday    Sunday  -4.4139  -585.5683 576.7405 False \n",
            " Monday   Thursday -4.7359  -585.5691 576.0973 False \n",
            " Monday   Tuesday  -7.0115  -587.8447 573.8217 False \n",
            " Monday  Wednesday  0.3489  -580.4843 581.1821 False \n",
            "Saturday   Sunday  -6.3892  -587.5436 574.7651 False \n",
            "Saturday  Thursday -6.7113  -587.5445 574.1219 False \n",
            "Saturday  Tuesday  -8.9869  -589.8201 571.8463 False \n",
            "Saturday Wednesday -1.6265  -582.4597 579.2067 False \n",
            " Sunday   Thursday -0.3221  -581.4764 580.8323 False \n",
            " Sunday   Tuesday  -2.5976   -583.752 578.5567 False \n",
            " Sunday  Wednesday  4.7627  -576.3916 585.9171 False \n",
            "Thursday  Tuesday  -2.2756  -583.1088 578.5576 False \n",
            "Thursday Wednesday  5.0848  -575.7484 585.918  False \n",
            "Tuesday  Wednesday  7.3604  -573.4728 588.1936 False \n",
            "-----------------------------------------------------\n"
          ]
        },
        {
          "data": {
            "image/png": "[encoded data removed]",
            "text/plain": [
              "<Figure size 432x288 with 1 Axes>"
            ]
          },
          "metadata": {},
          "output_type": "display_data"
        }
      ],
      "source": [
        "#Weekend Effect for Bitcoin Market\n",
        "#Hipothesis: The bitcoin prices are likely to fall\n",
        "#on Monday. Means the closing\n",
        "#price of Monday is less than the\n",
        "#bitcoin price of previous Friday. \n",
        "#Author: Dragos Cioata\n",
        "#Submitted: 04 Mar 2019\n",
        "\n",
        "#import\n",
        "import pandas as pd\n",
        "import numpy as np\n",
        "from scipy import stats\n",
        "import warnings\n",
        "warnings.simplefilter(action='ignore', category=FutureWarning)\n",
        "import matplotlib.pyplot as plt\n",
        "import datetime  as dt\n",
        "from astropy.table import Table\n",
        "from statsmodels.stats.multicomp import pairwise_tukeyhsd\n",
        "\n",
        "\n",
        "#read csv data\n",
        "df=pd.read_csv('BTC-USD.csv')\n",
        "\n",
        "#kepp de date and de close price\n",
        "df=df[['Date','Close']]\n",
        "\n",
        "#make date a datetime object\n",
        "df['Date'] = pd.to_datetime(df['Date'])\n",
        "\n",
        "#extract the name of the day\n",
        "df['weekday'] = df['Date'].apply(lambda x: dt.datetime.strftime(x, '%A'))\n",
        "\n",
        "#print 5 rows \n",
        "print(df.head())\n",
        "\n",
        "#plot the evolution of the bitcoin close price\n",
        "plt.title('Bitcoin price')\n",
        "plt.plot(df['Date'],df['Close'])\n",
        "plt.xlabel('Date')\n",
        "plt.ylabel('Price')\n",
        "\n",
        "#print the  test restult for the hipothesis\n",
        "print(pairwise_tukeyhsd(df['Close'], df['weekday']))\n"
      ]
    },
    {
      "cell_type": "code",
      "execution_count": null,
      "metadata": {
        "id": "iNISxH4AQSDN"
      },
      "outputs": [],
      "source": []
    }
  ],
  "metadata": {
    "kernelspec": {
      "display_name": "Python 3",
      "language": "python",
      "name": "python3"
    },
    "language_info": {
      "codemirror_mode": {
        "name": "ipython",
        "version": 3
      },
      "file_extension": ".py",
      "mimetype": "text/x-python",
      "name": "python",
      "nbconvert_exporter": "python",
      "pygments_lexer": "ipython3",
      "version": "3.6.5"
    },
    "colab": {
      "provenance": []
    }
  },
  "nbformat": 4,
  "nbformat_minor": 0
}