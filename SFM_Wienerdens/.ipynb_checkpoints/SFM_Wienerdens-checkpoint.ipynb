{
 "cells": [
  {
   "cell_type": "code",
   "execution_count": 20,
   "metadata": {},
   "outputs": [],
   "source": [
    "import numpy as np\n",
    "import pandas as pd\n",
    "import matplotlib.pyplot as plt\n",
    "import matplotlib\n",
    "import random"
   ]
  },
  {
   "cell_type": "code",
   "execution_count": 21,
   "metadata": {},
   "outputs": [],
   "source": [
    "dt = 0.01 #delta t\n",
    "c = 2 #constant\n",
    "s = 150 #time moment\n",
    "a = 90 #left limit\n",
    "b = 110 #right limit\n",
    "x0 = 50 #initial value of the process\n",
    "l=200\n",
    "n=np.floor(l/dt)\n",
    "t=[]"
   ]
  },
  {
   "cell_type": "code",
   "execution_count": 22,
   "metadata": {},
   "outputs": [],
   "source": [
    "dt\n",
    "n*dt\n",
    "for i in np.arange(0,n*dt,dt):\n",
    "    t.append(i)\n",
    "random.seed(1000)"
   ]
  },
  {
   "cell_type": "code",
   "execution_count": 23,
   "metadata": {},
   "outputs": [],
   "source": [
    "z = np.repeat(0, int(n)*1).reshape((int(n),1))\n",
    "len(z)\n",
    "temp = np.random.uniform(0,1,20000)\n",
    "z=temp.reshape((int(n),1))\n",
    "z = 2*(z>0.5)-1\n",
    "z = z*c*np.sqrt(dt); "
   ]
  },
  {
   "cell_type": "code",
   "execution_count": 24,
   "metadata": {},
   "outputs": [],
   "source": [
    "w = np.repeat(0, int(n)*1).reshape((int(n),1))\n",
    "w = x0 + np.cumsum(z);\n",
    "x0 = [x0] + list(w)"
   ]
  },
  {
   "cell_type": "code",
   "execution_count": 25,
   "metadata": {},
   "outputs": [
    {
     "data": {
      "text/plain": [
       "26.600000000000048"
      ]
     },
     "execution_count": 25,
     "metadata": {},
     "output_type": "execute_result"
    }
   ],
   "source": [
    "# Computing the normal distribution;\n",
    "max1   =  max(w);\n",
    "min1   =  min(w);\n",
    "sigma  =  np.sqrt(max(t)-s)*c;\n",
    "mu = w[int(s/dt)]\n",
    "mu"
   ]
  },
  {
   "cell_type": "code",
   "execution_count": 26,
   "metadata": {},
   "outputs": [
    {
     "data": {
      "text/plain": [
       "45891"
      ]
     },
     "execution_count": 26,
     "metadata": {},
     "output_type": "execute_result"
    }
   ],
   "source": [
    "ndata=[]\n",
    "min1-sigma**2\n",
    "sigma**2*(max1-min1)\n",
    "for i in np.arange(min1-sigma**2,sigma**2*(max1-min1),0.2):\n",
    "    ndata.append(i)\n",
    "len(ndata)\n"
   ]
  },
  {
   "cell_type": "code",
   "execution_count": 27,
   "metadata": {},
   "outputs": [
    {
     "data": {
      "text/plain": [
       "array([199.99, 199.99, 199.99, ..., 199.99, 199.99, 199.99])"
      ]
     },
     "execution_count": 27,
     "metadata": {},
     "output_type": "execute_result"
    }
   ],
   "source": [
    "pi = np.pi\n",
    "f = 750*1/np.sqrt(2*pi*sigma*sigma)*np.exp(-(ndata-mu)**2/(2*sigma**2) )+max(t);\n",
    "f"
   ]
  },
  {
   "cell_type": "code",
   "execution_count": 28,
   "metadata": {},
   "outputs": [
    {
     "data": {
      "text/html": [
       "<div>\n",
       "<style scoped>\n",
       "    .dataframe tbody tr th:only-of-type {\n",
       "        vertical-align: middle;\n",
       "    }\n",
       "\n",
       "    .dataframe tbody tr th {\n",
       "        vertical-align: top;\n",
       "    }\n",
       "\n",
       "    .dataframe thead th {\n",
       "        text-align: right;\n",
       "    }\n",
       "</style>\n",
       "<table border=\"1\" class=\"dataframe\">\n",
       "  <thead>\n",
       "    <tr style=\"text-align: right;\">\n",
       "      <th></th>\n",
       "      <th>min1</th>\n",
       "      <th>max1</th>\n",
       "      <th>mu</th>\n",
       "      <th>sigma</th>\n",
       "      <th>maxf</th>\n",
       "      <th>maxt</th>\n",
       "    </tr>\n",
       "  </thead>\n",
       "  <tbody>\n",
       "    <tr>\n",
       "      <th>0</th>\n",
       "      <td>20.0</td>\n",
       "      <td>65.0</td>\n",
       "      <td>26.6</td>\n",
       "      <td>14.140721</td>\n",
       "      <td>22114.914076</td>\n",
       "      <td>19999.0</td>\n",
       "    </tr>\n",
       "  </tbody>\n",
       "</table>\n",
       "</div>"
      ],
      "text/plain": [
       "   min1  max1    mu      sigma          maxf     maxt\n",
       "0  20.0  65.0  26.6  14.140721  22114.914076  19999.0"
      ]
     },
     "execution_count": 28,
     "metadata": {},
     "output_type": "execute_result"
    }
   ],
   "source": [
    "fndata  = pd.DataFrame(ndata,100*f).reset_index().rename(columns = {'index':'f',0:\"x\"})\n",
    "maxf   = max(fndata[\"f\"])\n",
    "maxt   = max(t)*100;\n",
    "minmax  = pd.DataFrame([min1,max1,mu,sigma,maxf,maxt],index = [\"min1\",\"max1\",\"mu\",\"sigma\",\"maxf\",\"maxt\"],).T\n",
    "minmax"
   ]
  },
  {
   "cell_type": "code",
   "execution_count": 29,
   "metadata": {},
   "outputs": [],
   "source": [
    "w = pd.DataFrame(w,t).reset_index().rename(columns = {'index':'t',0:\"w\"})\n"
   ]
  },
  {
   "cell_type": "code",
   "execution_count": 30,
   "metadata": {},
   "outputs": [],
   "source": [
    "minmax ['low'] = minmax['min1'] - minmax['sigma'] \n",
    "minmax ['upp'] = minmax['max1'] + minmax['sigma'] \n",
    "minmax ['maxy'] = minmax['maxf'] + 1000\n",
    "minmax ['refS'] = 100 *s\n",
    "minmax ['low1'] = minmax['mu'] - minmax['sigma'] \n",
    "minmax ['upp1'] = minmax['mu'] + minmax['sigma'] \n"
   ]
  },
  {
   "cell_type": "code",
   "execution_count": 31,
   "metadata": {},
   "outputs": [],
   "source": [
    "w\n",
    "date = pd.concat([w,fndata],axis = 1)\n",
    "\n"
   ]
  },
  {
   "cell_type": "code",
   "execution_count": 32,
   "metadata": {},
   "outputs": [
    {
     "data": {
      "text/plain": [
       "array([ nan, 26.6])"
      ]
     },
     "execution_count": 32,
     "metadata": {},
     "output_type": "execute_result"
    }
   ],
   "source": [
    "Nlist = list(range(1, len(date)+1))\n",
    "date[\"iterations\"] = Nlist\n",
    "date.loc[(date['iterations']>=15000) & (date['iterations']<=19999),'rline'] = mu\n",
    "date.rline.unique()"
   ]
  },
  {
   "cell_type": "code",
   "execution_count": 33,
   "metadata": {},
   "outputs": [
    {
     "data": {
      "image/png": "[encoded data removed]",
      "text/plain": [
       "<Figure size 640x480 with 1 Axes>"
      ]
     },
     "metadata": {
      "needs_background": "light"
     },
     "output_type": "display_data"
    }
   ],
   "source": [
    "#Plot the conditional distribution of a Wiener process\n",
    "from matplotlib.pyplot import figure\n",
    "\n",
    "figure(figsize=(8, 6), dpi=80)\n",
    "plt.title('Wiener process simulation')\n",
    "plt.plot(date['iterations'], date['w'])\n",
    "plt.xlabel('iterations')\n",
    "plt.ylabel('w')\n",
    "plt.axvline(x=15000, color='k', label='line')\n",
    "plt.axvline(x=20000, color='k', label='line')\n",
    "plt.hlines(y=mu, xmin=15000, xmax=20000, colors='k', linestyles='--', lw=2, label='line')\n",
    "plt.plot(fndata['f'], fndata['x'],color='red')\n",
    "plt.ylim((mu- 3*sigma, mu + 3*sigma))\n",
    "\n",
    "\n",
    "# Drawing the red area\n",
    "a = mu - sigma\n",
    "b = mu + sigma\n",
    "i = a+0.1\n",
    "plt.hlines(y=a,xmin=20000, xmax=100*(750*1/np.sqrt(2*pi*sigma*sigma)*np.exp(-(a-mu)**2/(2*sigma**2) )\n",
    "           +max(t)),colors='r', lw=2, label='line')\n",
    "while i < b:\n",
    "\n",
    "    plt.hlines(y=i,xmin=20000, xmax=100*(750*1/np.sqrt(2*pi*sigma*sigma)*np.exp(-(i-mu)**2/(2*sigma**2) )\n",
    "           +max(t)),colors='r', lw=2, label='line')\n",
    "    i += 0.1\n",
    "\n",
    "\n"
   ]
  },
  {
   "cell_type": "code",
   "execution_count": null,
   "metadata": {},
   "outputs": [],
   "source": []
  },
  {
   "cell_type": "code",
   "execution_count": null,
   "metadata": {},
   "outputs": [],
   "source": []
  }
 ],
 "metadata": {
  "kernelspec": {
   "display_name": "Python 3",
   "language": "python",
   "name": "python3"
  },
  "language_info": {
   "codemirror_mode": {
    "name": "ipython",
    "version": 3
   },
   "file_extension": ".py",
   "mimetype": "text/x-python",
   "name": "python",
   "nbconvert_exporter": "python",
   "pygments_lexer": "ipython3",
   "version": "3.8.8"
  }
 },
 "nbformat": 4,
 "nbformat_minor": 4
}
