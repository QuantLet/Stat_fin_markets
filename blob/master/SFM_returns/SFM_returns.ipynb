{
  "cells": [
    {
      "cell_type": "markdown",
      "metadata": {
        "id": "view-in-github",
        "colab_type": "text"
      },
      "source": [
        "<a href=\"https://colab.research.google.com/github/danpele/Stat_fin_markets/blob/master/blob/master/SFM_returns/SFM_returns.ipynb\" target=\"_parent\"><img src=\"https://colab.research.google.com/assets/colab-badge.svg\" alt=\"Open In Colab\"/></a>"
      ]
    },
    {
      "cell_type": "code",
      "execution_count": null,
      "metadata": {
        "id": "jN9Ow_gySNAl"
      },
      "outputs": [],
      "source": [
        "! pip install yfinance\n",
        "import warnings\n",
        "warnings.filterwarnings('ignore')"
      ]
    },
    {
      "cell_type": "code",
      "execution_count": null,
      "metadata": {
        "id": "aBPry9hTSNAn",
        "outputId": "80cb69f9-9f6b-4d38-9497-5fa72b3ab79d",
        "colab": {
          "base_uri": "https://localhost:8080/",
          "height": 373
        }
      },
      "outputs": [
        {
          "output_type": "error",
          "ename": "ModuleNotFoundError",
          "evalue": "ignored",
          "traceback": [
            "\u001b[0;31m---------------------------------------------------------------------------\u001b[0m",
            "\u001b[0;31mModuleNotFoundError\u001b[0m                       Traceback (most recent call last)",
            "\u001b[0;32m<ipython-input-2-d98b84dca8ab>\u001b[0m in \u001b[0;36m<module>\u001b[0;34m\u001b[0m\n\u001b[0;32m----> 1\u001b[0;31m \u001b[0;32mimport\u001b[0m \u001b[0myfinance\u001b[0m \u001b[0;32mas\u001b[0m \u001b[0myf\u001b[0m\u001b[0;34m\u001b[0m\u001b[0;34m\u001b[0m\u001b[0m\n\u001b[0m\u001b[1;32m      2\u001b[0m \u001b[0;34m\u001b[0m\u001b[0m\n\u001b[1;32m      3\u001b[0m \u001b[0;32mimport\u001b[0m \u001b[0mnumpy\u001b[0m \u001b[0;32mas\u001b[0m \u001b[0mnp\u001b[0m\u001b[0;34m\u001b[0m\u001b[0;34m\u001b[0m\u001b[0m\n\u001b[1;32m      4\u001b[0m \u001b[0;32mimport\u001b[0m \u001b[0mpandas\u001b[0m \u001b[0;32mas\u001b[0m \u001b[0mpd\u001b[0m\u001b[0;34m\u001b[0m\u001b[0;34m\u001b[0m\u001b[0m\n\u001b[1;32m      5\u001b[0m \u001b[0;31m#define the ticker symbol\u001b[0m\u001b[0;34m\u001b[0m\u001b[0;34m\u001b[0m\u001b[0;34m\u001b[0m\u001b[0m\n",
            "\u001b[0;31mModuleNotFoundError\u001b[0m: No module named 'yfinance'",
            "",
            "\u001b[0;31m---------------------------------------------------------------------------\u001b[0;32m\nNOTE: If your import is failing due to a missing package, you can\nmanually install dependencies using either !pip or !apt.\n\nTo view examples of installing some common dependencies, click the\n\"Open Examples\" button below.\n\u001b[0;31m---------------------------------------------------------------------------\u001b[0m\n"
          ],
          "errorDetails": {
            "actions": [
              {
                "action": "open_url",
                "actionText": "Open Examples",
                "url": "/notebooks/snippets/importing_libraries.ipynb"
              }
            ]
          }
        }
      ],
      "source": [
        "import yfinance as yf\n",
        "\n",
        "import numpy as np\n",
        "import pandas as pd\n",
        "#define the ticker symbol\n",
        "tickerSymbol = 'AAPL'\n",
        "\n",
        "#get data on this ticker\n",
        "tickerData = yf.Ticker(tickerSymbol)\n",
        "\n",
        "#get the historical prices for this ticker\n",
        "df = tickerData.history(period='1d', start='2020-1-1', end='2020-10-6')\n",
        "\n",
        "#see your data\n",
        "df"
      ]
    },
    {
      "cell_type": "markdown",
      "metadata": {
        "id": "4Tc004DVSNAo"
      },
      "source": [
        "\n",
        "Simple return: $R_t=\\frac{P_t - P_{t-1}}{P_{t-1}}$\n",
        "\n",
        "Log-return: $r_t = \\log\\left(\\frac{P_t}{P_{t-1}}\\right)=\\log{P_t}-\\log{P_{t-1}}$"
      ]
    },
    {
      "cell_type": "code",
      "execution_count": null,
      "metadata": {
        "id": "pLgZoktTSNAp"
      },
      "outputs": [],
      "source": [
        "close = df[\"Close\"]\n",
        "\n",
        "simple_return = close.pct_change()\n",
        "\n",
        "log_return = np.log(1+simple_return)\n"
      ]
    },
    {
      "cell_type": "code",
      "execution_count": null,
      "metadata": {
        "id": "hVUDt2d9SNAq"
      },
      "outputs": [],
      "source": [
        "import matplotlib.pyplot as plt   # Import matplotlib\n",
        "# This line is necessary for the plot to appear in a Jupyter notebook\n",
        "%matplotlib inline\n",
        "# Control the default size of figures in this Jupyter notebook\n",
        "%pylab inline\n",
        "\n",
        "pylab.rcParams['figure.figsize'] = (15, 9)   # Change the size of plots\n",
        "\n",
        "#apple[\"Adj. Close\"].plot(grid = False) # Plot the adjusted closing price of AAPL\n",
        "\n",
        "simple_return.plot()# Plot the lsimple return\n",
        "log_return.plot() # Plot the logreturn"
      ]
    },
    {
      "cell_type": "code",
      "execution_count": null,
      "metadata": {
        "id": "uOVbnV6ISNAq"
      },
      "outputs": [],
      "source": [
        "plt.plot(simple_return,log_return, 'o',c='blue')\n",
        "plt.ylabel( 'Log-return' )\n",
        "plt.xlabel( 'Simple return' )\n",
        "#plt.legend(loc='upper center',bbox_to_anchor=(0.5, -0.15), fancybox=True, shadow=True)\n",
        "plt.show()"
      ]
    },
    {
      "cell_type": "code",
      "execution_count": null,
      "metadata": {
        "id": "EBBZbVetSNAq"
      },
      "outputs": [],
      "source": [
        "import seaborn as sns\n",
        "\n",
        "# histogram\n",
        "sns.distplot(log_return, kde=False, norm_hist=True,label='Log-returns') \n",
        "sns.distplot(simple_return, kde=False, norm_hist=True, label='Simple returns')  \n",
        "\n",
        "legend(loc='upper left');\n",
        "\n",
        "# plt.tight_layout()\n",
        "# plt.savefig('images/ch1_im10.png')\n",
        "plt.show()"
      ]
    },
    {
      "cell_type": "code",
      "execution_count": null,
      "metadata": {
        "id": "s807RzvTSNAr"
      },
      "outputs": [],
      "source": []
    }
  ],
  "metadata": {
    "kernelspec": {
      "display_name": "Python 3",
      "language": "python",
      "name": "python3"
    },
    "language_info": {
      "codemirror_mode": {
        "name": "ipython",
        "version": 3
      },
      "file_extension": ".py",
      "mimetype": "text/x-python",
      "name": "python",
      "nbconvert_exporter": "python",
      "pygments_lexer": "ipython3",
      "version": "3.8.5"
    },
    "colab": {
      "provenance": [],
      "include_colab_link": true
    }
  },
  "nbformat": 4,
  "nbformat_minor": 0
}